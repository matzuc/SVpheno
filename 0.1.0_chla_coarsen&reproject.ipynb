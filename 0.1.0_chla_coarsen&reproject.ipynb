{
 "cells": [
  {
   "cell_type": "markdown",
   "metadata": {},
   "source": [
    "# Chlorophyll -a pre-processing\n",
    "Reprojection, smoothing and interpolation of chla data on UTM33N grid with 4x4km resolution.\n"
   ]
  },
  {
   "cell_type": "code",
   "execution_count": null,
   "metadata": {},
   "outputs": [],
   "source": [
    "# import libraries for working with .nc\n",
    "import xarray as xr\n",
    "import os   \n",
    "import numpy as np\n",
    "\n",
    "import matplotlib.pyplot as plt\n",
    "import pandas as pd\n",
    "import dask \n",
    "import random\n",
    "import glob"
   ]
  },
  {
   "cell_type": "code",
   "execution_count": null,
   "metadata": {},
   "outputs": [],
   "source": [
    "# origin path\n",
    "pathDEST = '/mnt/d/Dropbox/R_projects/SV_phenology/data/CDS/daily_smoothed'\n",
    "pathCOARS =  '/mnt/d/Dropbox/R_projects/SV_phenology/data/CDS/daily_coarsened'"
   ]
  }
 ],
 "metadata": {
  "language_info": {
   "name": "python"
  }
 },
 "nbformat": 4,
 "nbformat_minor": 2
}
